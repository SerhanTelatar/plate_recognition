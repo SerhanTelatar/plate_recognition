{
 "cells": [
  {
   "cell_type": "code",
   "execution_count": null,
   "metadata": {},
   "outputs": [
    {
     "name": "stdout",
     "output_type": "stream",
     "text": [
      "21173\n",
      "1019\n",
      "1019\n"
     ]
    }
   ],
   "source": [
    "import os\n",
    "import cv2\n",
    "\n",
    "print(len(os.listdir(\"./data/train/images\")))\n",
    "print(len(os.listdir(\"./data/valid/images\")))\n",
    "print(len(os.listdir(\"./data/test/images\")))\n",
    "\n"
   ]
  },
  {
   "cell_type": "code",
   "execution_count": 11,
   "metadata": {},
   "outputs": [
    {
     "name": "stdout",
     "output_type": "stream",
     "text": [
      "Counter({(640, 640, 3): 2046})\n"
     ]
    }
   ],
   "source": [
    "from collections import Counter\n",
    "import cv2\n",
    "import os\n",
    "\n",
    "sizes = Counter()\n",
    "for i in os.listdir(\"./data/valid/images\"):\n",
    "    image = cv2.imread(f\"./data/valid/images/{i}\")\n",
    "    if image is not None:\n",
    "        sizes[image.shape] += 1\n",
    "\n",
    "print(sizes)\n"
   ]
  },
  {
   "cell_type": "code",
   "execution_count": null,
   "metadata": {},
   "outputs": [],
   "source": []
  }
 ],
 "metadata": {
  "kernelspec": {
   "display_name": "Python 3",
   "language": "python",
   "name": "python3"
  },
  "language_info": {
   "codemirror_mode": {
    "name": "ipython",
    "version": 3
   },
   "file_extension": ".py",
   "mimetype": "text/x-python",
   "name": "python",
   "nbconvert_exporter": "python",
   "pygments_lexer": "ipython3",
   "version": "3.12.6"
  }
 },
 "nbformat": 4,
 "nbformat_minor": 2
}
